{
 "cells": [
  {
   "cell_type": "code",
   "execution_count": 17,
   "id": "0a460c1c",
   "metadata": {},
   "outputs": [],
   "source": [
    "import csv\n",
    "import json\n",
    "import urllib.request"
   ]
  },
  {
   "cell_type": "code",
   "execution_count": 18,
   "id": "03f72ad4",
   "metadata": {},
   "outputs": [],
   "source": [
    "def process_csv_as_json(csv_url, file_name):\n",
    "    csv_file, _ = urllib.request.urlretrieve(csv_url, \"\")\n",
    "    \n",
    "    with open(csv_file, 'r') as csv_file_handler:\n",
    "        csv_reader = csv.DictReader(csv_file_handler)\n",
    "        with open(file_name, 'w') as json_file_handler:\n",
    "            for row in csv_reader:\n",
    "                json.dump(row, json_file_handler)\n",
    "                json_file_handler.write('\\n')"
   ]
  },
  {
   "cell_type": "code",
   "execution_count": 19,
   "id": "782e6d9f",
   "metadata": {},
   "outputs": [],
   "source": [
    "process_csv_as_json(\"https://pbryan.github.io/exercise/companies.csv\", \"companies_json\")\n",
    "process_csv_as_json(\"https://pbryan.github.io/exercise/opportunities.csv\", \"opportunities_json\")"
   ]
  },
  {
   "cell_type": "code",
   "execution_count": 20,
   "id": "a1dec4c4",
   "metadata": {
    "scrolled": true
   },
   "outputs": [
    {
     "name": "stdout",
     "output_type": "stream",
     "text": [
      "1000 10000\n"
     ]
    }
   ],
   "source": [
    "companies = {}\n",
    "opportunities = {}\n",
    "\n",
    "with open(\"companies_json\") as companies_file:\n",
    "    for jsonStr in companies_file:\n",
    "        jsonObj = json.loads(jsonStr)\n",
    "        companies[jsonObj['id']] = {\n",
    "            'name': jsonObj['name'],\n",
    "            'start_date': jsonObj['start_date'],\n",
    "            'logo_image_url': jsonObj['logo_image_url'],\n",
    "            'employees': jsonObj['employees'],\n",
    "            'target_account': jsonObj['target_account']\n",
    "        }\n",
    "\n",
    "with open(\"opportunities_json\") as opportunities_file:\n",
    "    for jsonStr in opportunities_file:\n",
    "        jsonObj = json.loads(jsonStr)\n",
    "        opportunities[jsonObj['id']] = {\n",
    "            'company_id': jsonObj['company_id'],\n",
    "            'amount': jsonObj['amount'],\n",
    "            'type': jsonObj['type'],\n",
    "            'updated_at': jsonObj['updated_at'],\n",
    "            'status': jsonObj['status']\n",
    "        }\n",
    "print(len(companies), len(opportunities))"
   ]
  },
  {
   "cell_type": "code",
   "execution_count": 31,
   "id": "08ff3b71",
   "metadata": {},
   "outputs": [],
   "source": [
    "def get_company_report_rows(companies, opportunities):\n",
    "    rows = []\n",
    "    for company_id in companies.keys():\n",
    "        name = companies[company_id]['name']\n",
    "        start_date = companies[company_id]['start_date']\n",
    "\n",
    "        opportunity_amount = 0\n",
    "        opportunity_sum = 0\n",
    "        last_updated_opportunity = \"1900-12-15T05:11:12Z\"\n",
    "\n",
    "        for opportunity_id in opportunities.keys():\n",
    "            if opportunities[opportunity_id]['company_id'] == company_id:\n",
    "                opportunity_amount += 1\n",
    "                opportunity_sum += float(opportunities[opportunity_id]['amount'])\n",
    "                if opportunities[opportunity_id]['updated_at'] > last_updated_opportunity:\n",
    "                    last_updated_opportunity = opportunities[opportunity_id]['updated_at']\n",
    "\n",
    "        rows.append([name, start_date, opportunity_amount, opportunity_sum/opportunity_amount, last_updated_opportunity])\n",
    "\n",
    "    return rows"
   ]
  },
  {
   "cell_type": "code",
   "execution_count": 34,
   "id": "6c6eb22e",
   "metadata": {},
   "outputs": [],
   "source": [
    "report_headers = ['company name', 'start date', 'opportunities', 'average opportunity amount', 'last update']\n",
    "report_rows = get_company_report_rows(companies, opportunities)\n",
    "with open('company_report.csv', 'w') as report:\n",
    "    writer = csv.writer(report)\n",
    "    writer.writerow(report_headers)\n",
    "    for row in report_rows:\n",
    "        writer.writerow(row)"
   ]
  }
 ],
 "metadata": {
  "kernelspec": {
   "display_name": "Python 3 (ipykernel)",
   "language": "python",
   "name": "python3"
  },
  "language_info": {
   "codemirror_mode": {
    "name": "ipython",
    "version": 3
   },
   "file_extension": ".py",
   "mimetype": "text/x-python",
   "name": "python",
   "nbconvert_exporter": "python",
   "pygments_lexer": "ipython3",
   "version": "3.9.2"
  }
 },
 "nbformat": 4,
 "nbformat_minor": 5
}
